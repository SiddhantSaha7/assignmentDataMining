{
 "cells": [
  {
   "cell_type": "code",
   "execution_count": 9,
   "id": "adbe0a01-84bf-4a37-bbce-f88aa02f81a9",
   "metadata": {},
   "outputs": [],
   "source": [
    "import numpy as np\n",
    "import pandas as pd\n",
    "import matplotlib.pyplot as plt"
   ]
  },
  {
   "cell_type": "code",
   "execution_count": 10,
   "id": "d68d78dd-842f-4779-bc8d-884bce701913",
   "metadata": {},
   "outputs": [],
   "source": [
    "class Paper:\n",
    "    def __init__(self, publication: str, authors: list, year: int, publication_venue: str, citations: list, abstract: str):\n",
    "        self.publication = publication\n",
    "        self.authors = authors\n",
    "        self.year = year\n",
    "        self.publication_venue = publication_venue\n",
    "        self.citations = citations\n",
    "        self.abstract = abstract\n"
   ]
  },
  {
   "cell_type": "code",
   "execution_count": 11,
   "id": "f2e09f52-a0eb-4b16-b2c4-52835c00e7a6",
   "metadata": {},
   "outputs": [],
   "source": [
    "papers = {}\n",
    "index = 0\n",
    "with open(\"AP_train.txt\") as file:\n",
    "    for line in file:\n",
    "\n",
    "        if line.startswith(\"#index\"):\n",
    "            if index != 0:\n",
    "                papers[index] = Paper(publication, authors, year, publication_venue, citations, abstract)\n",
    "            index = int(line.strip().split()[1])\n",
    "            publication = ''\n",
    "            authors = []\n",
    "            year = None\n",
    "            publication_venue = ''\n",
    "            citations = []\n",
    "            abstract = ''\n",
    "            \n",
    "        elif line.startswith(\"#*\"):\n",
    "            publication = line.strip()[3:]\n",
    "            \n",
    "        elif line.startswith(\"#@\"):\n",
    "            authors=line.strip()[3:].split(';')\n",
    "\n",
    "        elif line.startswith(\"#t\"):\n",
    "            try:\n",
    "                year = int(line.strip().split()[1])\n",
    "            except:\n",
    "                year = None\n",
    "\n",
    "        elif line.startswith(\"#c\"):\n",
    "            publication_venue = line.strip()[3:]\n",
    "\n",
    "        elif line.startswith(\"#%\"):\n",
    "            citations.append(line.strip().split()[1])\n",
    "\n",
    "        elif line.startswith(\"#!\"):\n",
    "            abstract = line.strip()[3:]\n",
    "     \n",
    "file.close()"
   ]
  },
  {
   "cell_type": "markdown",
   "id": "529f65d1-10cd-4d76-b0ee-189f956ed273",
   "metadata": {},
   "source": [
    "3.1 Compute the total number of distinct authors, publications and citations"
   ]
  },
  {
   "cell_type": "code",
   "execution_count": 12,
   "id": "11b9b228-7676-4a56-b801-a3a8b7a9b9b4",
   "metadata": {},
   "outputs": [],
   "source": [
    "authors = set()\n",
    "publications = set()\n",
    "citations = set()\n",
    "publication_venue = set()\n",
    "\n",
    "for i in papers.values():\n",
    "    authors.update(i.authors)\n",
    "    publications.add(i.publication)\n",
    "    citations.update(i.citations)\n",
    "    publication_venue.add(i.publication_venue)\n",
    "    \n",
    "publications.remove('')"
   ]
  },
  {
   "cell_type": "code",
   "execution_count": 15,
   "id": "7a2cd5e8-ab7e-49fe-b5b8-ab17235903da",
   "metadata": {},
   "outputs": [
    {
     "name": "stdout",
     "output_type": "stream",
     "text": [
      "count of unique authors: 1484981\n",
      "count of unique publications: 255686\n",
      "count of unique citations: 871089\n",
      "count of unique publications: 1929485\n"
     ]
    }
   ],
   "source": [
    "print(f\"count of unique authors: {len(authors)}\")\n",
    "print(f\"count of unique publications: {len(publication_venue)}\")\n",
    "print(f\"count of unique citations: {len(citations)}\")\n",
    "print(f\"count of unique publications: {len(publications)}\")"
   ]
  },
  {
   "cell_type": "code",
   "execution_count": null,
   "id": "2252877d-0044-4b07-8282-9e7fe2af1346",
   "metadata": {},
   "outputs": [],
   "source": []
  }
 ],
 "metadata": {
  "kernelspec": {
   "display_name": "Python 3 (ipykernel)",
   "language": "python",
   "name": "python3"
  },
  "language_info": {
   "codemirror_mode": {
    "name": "ipython",
    "version": 3
   },
   "file_extension": ".py",
   "mimetype": "text/x-python",
   "name": "python",
   "nbconvert_exporter": "python",
   "pygments_lexer": "ipython3",
   "version": "3.13.7"
  }
 },
 "nbformat": 4,
 "nbformat_minor": 5
}
